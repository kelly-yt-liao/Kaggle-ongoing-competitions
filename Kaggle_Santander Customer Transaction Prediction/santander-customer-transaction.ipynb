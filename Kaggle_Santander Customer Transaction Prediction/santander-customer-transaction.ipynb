{
 "cells": [
  {
   "cell_type": "code",
   "execution_count": 1,
   "metadata": {
    "_cell_guid": "b1076dfc-b9ad-4769-8c92-a6c4dae69d19",
    "_uuid": "8f2839f25d086af736a60e9eeb907d3b93b6e0e5"
   },
   "outputs": [
    {
     "name": "stdout",
     "output_type": "stream",
     "text": [
      "['sample_submission.csv', 'test.csv', 'train.csv']\n"
     ]
    }
   ],
   "source": [
    "import pandas as pd\n",
    "import numpy as np\n",
    "import matplotlib.pyplot as plt\n",
    "import seaborn as sns\n",
    "import itertools\n",
    "import gc,os,sys\n",
    "\n",
    "sns.set_style('darkgrid')\n",
    "#sns.set_palette('bone')\n",
    "pd.options.display.float_format = '{:,.3f}'.format\n",
    "\n",
    "print(os.listdir(\"../input\"))"
   ]
  },
  {
   "cell_type": "markdown",
   "metadata": {
    "_uuid": "c9b904a6a7e6e1bcebe80f9634bbb3befff8d516"
   },
   "source": [
    "# Load data"
   ]
  },
  {
   "cell_type": "code",
   "execution_count": 2,
   "metadata": {
    "_cell_guid": "79c7e3d0-c299-4dcb-8224-4455121ee9b0",
    "_uuid": "d629ff2d2480ee46fbb7e2d37f6b5fab8052498a"
   },
   "outputs": [
    {
     "name": "stdout",
     "output_type": "stream",
     "text": [
      "(200000, 202) (200000, 201)\n",
      "CPU times: user 13.6 s, sys: 700 ms, total: 14.3 s\n",
      "Wall time: 14.3 s\n"
     ]
    }
   ],
   "source": [
    "%%time\n",
    "train = pd.read_csv('../input/train.csv')\n",
    "test = pd.read_csv('../input/test.csv')\n",
    "\n",
    "print(train.shape, test.shape)"
   ]
  },
  {
   "cell_type": "code",
   "execution_count": 3,
   "metadata": {
    "_uuid": "0825c11beeab7516ef7c440891d0b8f36e7626b9"
   },
   "outputs": [
    {
     "name": "stdout",
     "output_type": "stream",
     "text": [
      "target\n"
     ]
    }
   ],
   "source": [
    "for c in train.columns:\n",
    "    if c not in test.columns: print(c)"
   ]
  },
  {
   "cell_type": "code",
   "execution_count": 4,
   "metadata": {
    "_uuid": "9741e5ec37ed2c8c9ac985afb20bc51c71c86c7c"
   },
   "outputs": [
    {
     "name": "stdout",
     "output_type": "stream",
     "text": [
      "<class 'pandas.core.frame.DataFrame'>\n",
      "RangeIndex: 200000 entries, 0 to 199999\n",
      "Columns: 202 entries, ID_code to var_199\n",
      "dtypes: float64(200), int64(1), object(1)\n",
      "memory usage: 308.2+ MB\n"
     ]
    }
   ],
   "source": [
    "train.info()"
   ]
  },
  {
   "cell_type": "markdown",
   "metadata": {
    "_uuid": "ebe2fe27d3cdc20116f86c5a8172f57fe48f2eb7"
   },
   "source": [
    "# Data analysis"
   ]
  },
  {
   "cell_type": "code",
   "execution_count": 5,
   "metadata": {
    "_uuid": "8af97361288165ae195dfa917cf4c85a830661b6"
   },
   "outputs": [
    {
     "name": "stdout",
     "output_type": "stream",
     "text": [
      "null count: Series([], dtype: int64)\n"
     ]
    }
   ],
   "source": [
    "null_cnt = train.isnull().sum().sort_values()\n",
    "print('null count:', null_cnt[null_cnt > 0])"
   ]
  },
  {
   "cell_type": "code",
   "execution_count": 6,
   "metadata": {
    "_uuid": "ab903c9c110f9e6434d46d1af41be187986a1458"
   },
   "outputs": [],
   "source": [
    "#train.describe(include=np.number).drop('count').T"
   ]
  },
  {
   "cell_type": "code",
   "execution_count": 7,
   "metadata": {
    "_uuid": "01f68ad7c7021bad0a4ee59c46ea4657d5a2e59e"
   },
   "outputs": [
    {
     "data": {
      "text/plain": [
       "<matplotlib.axes._subplots.AxesSubplot at 0x7f3be573b470>"
      ]
     },
     "execution_count": 7,
     "metadata": {},
     "output_type": "execute_result"
    },
    {
     "data": {
      "image/png": "[encoded data removed]",
      "text/plain": [
       "<Figure size 432x288 with 1 Axes>"
      ]
     },
     "metadata": {},
     "output_type": "display_data"
    }
   ],
   "source": [
    "train['target'].value_counts().to_frame().plot.bar()"
   ]
  },
  {
   "cell_type": "markdown",
   "metadata": {
    "_uuid": "a64c8f39a86722da91bd4233411c9d076eef51c5"
   },
   "source": [
    "# Feature engineering"
   ]
  },
  {
   "cell_type": "code",
   "execution_count": 8,
   "metadata": {
    "_uuid": "b02317be5b784bc6e2a78dadfaf5ef98f8b1fca9"
   },
   "outputs": [
    {
     "data": {
      "text/plain": [
       "30"
      ]
     },
     "execution_count": 8,
     "metadata": {},
     "output_type": "execute_result"
    }
   ],
   "source": [
    "all_data = train.append(test, sort=False).reset_index(drop=True)\n",
    "del train, test\n",
    "gc.collect()"
   ]
  },
  {
   "cell_type": "code",
   "execution_count": 9,
   "metadata": {
    "_uuid": "b3d649e4c69c17b9a1cb5391b8e0a06fd27b58b4"
   },
   "outputs": [
    {
     "data": {
      "text/html": [
       "<div>\n",
       "<style scoped>\n",
       "    .dataframe tbody tr th:only-of-type {\n",
       "        vertical-align: middle;\n",
       "    }\n",
       "\n",
       "    .dataframe tbody tr th {\n",
       "        vertical-align: top;\n",
       "    }\n",
       "\n",
       "    .dataframe thead th {\n",
       "        text-align: right;\n",
       "    }\n",
       "</style>\n",
       "<table border=\"1\" class=\"dataframe\">\n",
       "  <thead>\n",
       "    <tr style=\"text-align: right;\">\n",
       "      <th></th>\n",
       "      <th>ID_code</th>\n",
       "      <th>target</th>\n",
       "      <th>var_0</th>\n",
       "      <th>var_1</th>\n",
       "      <th>var_2</th>\n",
       "      <th>var_3</th>\n",
       "      <th>var_4</th>\n",
       "      <th>var_5</th>\n",
       "      <th>var_6</th>\n",
       "      <th>var_7</th>\n",
       "      <th>var_8</th>\n",
       "      <th>var_9</th>\n",
       "      <th>var_10</th>\n",
       "      <th>var_11</th>\n",
       "      <th>var_12</th>\n",
       "      <th>var_13</th>\n",
       "      <th>var_14</th>\n",
       "      <th>var_15</th>\n",
       "      <th>var_16</th>\n",
       "      <th>var_17</th>\n",
       "      <th>var_18</th>\n",
       "      <th>var_19</th>\n",
       "      <th>var_20</th>\n",
       "      <th>var_21</th>\n",
       "      <th>var_22</th>\n",
       "      <th>var_23</th>\n",
       "      <th>var_24</th>\n",
       "      <th>var_25</th>\n",
       "      <th>var_26</th>\n",
       "      <th>var_27</th>\n",
       "      <th>var_28</th>\n",
       "      <th>var_29</th>\n",
       "      <th>var_30</th>\n",
       "      <th>var_31</th>\n",
       "      <th>var_32</th>\n",
       "      <th>var_33</th>\n",
       "      <th>var_34</th>\n",
       "      <th>var_35</th>\n",
       "      <th>var_36</th>\n",
       "      <th>var_37</th>\n",
       "      <th>...</th>\n",
       "      <th>var_160</th>\n",
       "      <th>var_161</th>\n",
       "      <th>var_162</th>\n",
       "      <th>var_163</th>\n",
       "      <th>var_164</th>\n",
       "      <th>var_165</th>\n",
       "      <th>var_166</th>\n",
       "      <th>var_167</th>\n",
       "      <th>var_168</th>\n",
       "      <th>var_169</th>\n",
       "      <th>var_170</th>\n",
       "      <th>var_171</th>\n",
       "      <th>var_172</th>\n",
       "      <th>var_173</th>\n",
       "      <th>var_174</th>\n",
       "      <th>var_175</th>\n",
       "      <th>var_176</th>\n",
       "      <th>var_177</th>\n",
       "      <th>var_178</th>\n",
       "      <th>var_179</th>\n",
       "      <th>var_180</th>\n",
       "      <th>var_181</th>\n",
       "      <th>var_182</th>\n",
       "      <th>var_183</th>\n",
       "      <th>var_184</th>\n",
       "      <th>var_185</th>\n",
       "      <th>var_186</th>\n",
       "      <th>var_187</th>\n",
       "      <th>var_188</th>\n",
       "      <th>var_189</th>\n",
       "      <th>var_190</th>\n",
       "      <th>var_191</th>\n",
       "      <th>var_192</th>\n",
       "      <th>var_193</th>\n",
       "      <th>var_194</th>\n",
       "      <th>var_195</th>\n",
       "      <th>var_196</th>\n",
       "      <th>var_197</th>\n",
       "      <th>var_198</th>\n",
       "      <th>var_199</th>\n",
       "    </tr>\n",
       "  </thead>\n",
       "  <tbody>\n",
       "    <tr>\n",
       "      <th>0</th>\n",
       "      <td>train_0</td>\n",
       "      <td>0.000</td>\n",
       "      <td>8.925</td>\n",
       "      <td>-6.786</td>\n",
       "      <td>11.908</td>\n",
       "      <td>5.093</td>\n",
       "      <td>11.461</td>\n",
       "      <td>-9.283</td>\n",
       "      <td>5.119</td>\n",
       "      <td>18.627</td>\n",
       "      <td>-4.920</td>\n",
       "      <td>5.747</td>\n",
       "      <td>2.925</td>\n",
       "      <td>3.182</td>\n",
       "      <td>14.014</td>\n",
       "      <td>0.575</td>\n",
       "      <td>8.799</td>\n",
       "      <td>14.569</td>\n",
       "      <td>5.749</td>\n",
       "      <td>-7.239</td>\n",
       "      <td>4.284</td>\n",
       "      <td>30.713</td>\n",
       "      <td>10.535</td>\n",
       "      <td>16.219</td>\n",
       "      <td>2.579</td>\n",
       "      <td>2.472</td>\n",
       "      <td>14.383</td>\n",
       "      <td>13.432</td>\n",
       "      <td>-5.149</td>\n",
       "      <td>-0.407</td>\n",
       "      <td>4.931</td>\n",
       "      <td>5.997</td>\n",
       "      <td>-0.308</td>\n",
       "      <td>12.904</td>\n",
       "      <td>-3.877</td>\n",
       "      <td>16.891</td>\n",
       "      <td>11.192</td>\n",
       "      <td>10.579</td>\n",
       "      <td>0.676</td>\n",
       "      <td>7.887</td>\n",
       "      <td>...</td>\n",
       "      <td>15.458</td>\n",
       "      <td>5.313</td>\n",
       "      <td>3.616</td>\n",
       "      <td>5.038</td>\n",
       "      <td>6.676</td>\n",
       "      <td>12.664</td>\n",
       "      <td>2.700</td>\n",
       "      <td>-0.698</td>\n",
       "      <td>9.598</td>\n",
       "      <td>5.488</td>\n",
       "      <td>-4.764</td>\n",
       "      <td>-8.425</td>\n",
       "      <td>20.877</td>\n",
       "      <td>3.153</td>\n",
       "      <td>18.562</td>\n",
       "      <td>7.742</td>\n",
       "      <td>-10.124</td>\n",
       "      <td>13.724</td>\n",
       "      <td>-3.519</td>\n",
       "      <td>1.720</td>\n",
       "      <td>-8.405</td>\n",
       "      <td>9.016</td>\n",
       "      <td>3.066</td>\n",
       "      <td>14.369</td>\n",
       "      <td>25.840</td>\n",
       "      <td>5.876</td>\n",
       "      <td>11.841</td>\n",
       "      <td>-19.716</td>\n",
       "      <td>17.574</td>\n",
       "      <td>0.586</td>\n",
       "      <td>4.435</td>\n",
       "      <td>3.964</td>\n",
       "      <td>3.136</td>\n",
       "      <td>1.691</td>\n",
       "      <td>18.523</td>\n",
       "      <td>-2.398</td>\n",
       "      <td>7.878</td>\n",
       "      <td>8.563</td>\n",
       "      <td>12.780</td>\n",
       "      <td>-1.091</td>\n",
       "    </tr>\n",
       "    <tr>\n",
       "      <th>1</th>\n",
       "      <td>train_1</td>\n",
       "      <td>0.000</td>\n",
       "      <td>11.501</td>\n",
       "      <td>-4.147</td>\n",
       "      <td>13.859</td>\n",
       "      <td>5.389</td>\n",
       "      <td>12.362</td>\n",
       "      <td>7.043</td>\n",
       "      <td>5.621</td>\n",
       "      <td>16.534</td>\n",
       "      <td>3.147</td>\n",
       "      <td>8.085</td>\n",
       "      <td>-0.403</td>\n",
       "      <td>8.059</td>\n",
       "      <td>14.024</td>\n",
       "      <td>8.414</td>\n",
       "      <td>5.434</td>\n",
       "      <td>13.700</td>\n",
       "      <td>13.828</td>\n",
       "      <td>-15.585</td>\n",
       "      <td>7.800</td>\n",
       "      <td>28.571</td>\n",
       "      <td>3.429</td>\n",
       "      <td>2.741</td>\n",
       "      <td>8.552</td>\n",
       "      <td>3.372</td>\n",
       "      <td>6.978</td>\n",
       "      <td>13.891</td>\n",
       "      <td>-11.768</td>\n",
       "      <td>-2.559</td>\n",
       "      <td>5.046</td>\n",
       "      <td>0.548</td>\n",
       "      <td>-9.299</td>\n",
       "      <td>7.875</td>\n",
       "      <td>1.286</td>\n",
       "      <td>19.371</td>\n",
       "      <td>11.370</td>\n",
       "      <td>0.740</td>\n",
       "      <td>2.800</td>\n",
       "      <td>5.843</td>\n",
       "      <td>...</td>\n",
       "      <td>29.485</td>\n",
       "      <td>5.868</td>\n",
       "      <td>3.821</td>\n",
       "      <td>15.835</td>\n",
       "      <td>-5.012</td>\n",
       "      <td>15.134</td>\n",
       "      <td>3.200</td>\n",
       "      <td>9.319</td>\n",
       "      <td>3.882</td>\n",
       "      <td>5.800</td>\n",
       "      <td>5.538</td>\n",
       "      <td>5.099</td>\n",
       "      <td>22.033</td>\n",
       "      <td>5.513</td>\n",
       "      <td>30.265</td>\n",
       "      <td>10.497</td>\n",
       "      <td>-7.235</td>\n",
       "      <td>16.572</td>\n",
       "      <td>-7.348</td>\n",
       "      <td>11.075</td>\n",
       "      <td>-5.594</td>\n",
       "      <td>9.488</td>\n",
       "      <td>-14.910</td>\n",
       "      <td>9.425</td>\n",
       "      <td>22.544</td>\n",
       "      <td>-4.862</td>\n",
       "      <td>7.654</td>\n",
       "      <td>-15.932</td>\n",
       "      <td>13.318</td>\n",
       "      <td>-0.357</td>\n",
       "      <td>7.642</td>\n",
       "      <td>7.721</td>\n",
       "      <td>2.584</td>\n",
       "      <td>10.952</td>\n",
       "      <td>15.431</td>\n",
       "      <td>2.034</td>\n",
       "      <td>8.127</td>\n",
       "      <td>8.789</td>\n",
       "      <td>18.356</td>\n",
       "      <td>1.952</td>\n",
       "    </tr>\n",
       "    <tr>\n",
       "      <th>2</th>\n",
       "      <td>train_2</td>\n",
       "      <td>0.000</td>\n",
       "      <td>8.609</td>\n",
       "      <td>-2.746</td>\n",
       "      <td>12.081</td>\n",
       "      <td>7.893</td>\n",
       "      <td>10.582</td>\n",
       "      <td>-9.084</td>\n",
       "      <td>6.943</td>\n",
       "      <td>14.616</td>\n",
       "      <td>-4.919</td>\n",
       "      <td>5.952</td>\n",
       "      <td>-0.325</td>\n",
       "      <td>-11.265</td>\n",
       "      <td>14.193</td>\n",
       "      <td>7.312</td>\n",
       "      <td>7.524</td>\n",
       "      <td>14.647</td>\n",
       "      <td>7.678</td>\n",
       "      <td>-1.740</td>\n",
       "      <td>4.701</td>\n",
       "      <td>20.477</td>\n",
       "      <td>17.756</td>\n",
       "      <td>18.138</td>\n",
       "      <td>1.214</td>\n",
       "      <td>3.514</td>\n",
       "      <td>5.678</td>\n",
       "      <td>13.218</td>\n",
       "      <td>-7.994</td>\n",
       "      <td>-2.903</td>\n",
       "      <td>5.846</td>\n",
       "      <td>6.144</td>\n",
       "      <td>-11.102</td>\n",
       "      <td>12.486</td>\n",
       "      <td>-2.287</td>\n",
       "      <td>19.042</td>\n",
       "      <td>11.045</td>\n",
       "      <td>4.109</td>\n",
       "      <td>4.697</td>\n",
       "      <td>6.935</td>\n",
       "      <td>...</td>\n",
       "      <td>13.207</td>\n",
       "      <td>5.844</td>\n",
       "      <td>4.709</td>\n",
       "      <td>5.714</td>\n",
       "      <td>-1.041</td>\n",
       "      <td>20.509</td>\n",
       "      <td>3.279</td>\n",
       "      <td>-5.595</td>\n",
       "      <td>7.318</td>\n",
       "      <td>5.769</td>\n",
       "      <td>-7.093</td>\n",
       "      <td>-3.912</td>\n",
       "      <td>7.257</td>\n",
       "      <td>-5.823</td>\n",
       "      <td>25.682</td>\n",
       "      <td>10.920</td>\n",
       "      <td>-0.310</td>\n",
       "      <td>8.844</td>\n",
       "      <td>-9.701</td>\n",
       "      <td>2.401</td>\n",
       "      <td>-4.293</td>\n",
       "      <td>9.391</td>\n",
       "      <td>-13.265</td>\n",
       "      <td>3.155</td>\n",
       "      <td>23.087</td>\n",
       "      <td>-5.300</td>\n",
       "      <td>5.375</td>\n",
       "      <td>-6.266</td>\n",
       "      <td>10.193</td>\n",
       "      <td>-0.842</td>\n",
       "      <td>2.906</td>\n",
       "      <td>9.790</td>\n",
       "      <td>1.670</td>\n",
       "      <td>1.686</td>\n",
       "      <td>21.604</td>\n",
       "      <td>3.142</td>\n",
       "      <td>-6.521</td>\n",
       "      <td>8.268</td>\n",
       "      <td>14.722</td>\n",
       "      <td>0.397</td>\n",
       "    </tr>\n",
       "    <tr>\n",
       "      <th>3</th>\n",
       "      <td>train_3</td>\n",
       "      <td>0.000</td>\n",
       "      <td>11.060</td>\n",
       "      <td>-2.152</td>\n",
       "      <td>8.952</td>\n",
       "      <td>7.196</td>\n",
       "      <td>12.585</td>\n",
       "      <td>-1.836</td>\n",
       "      <td>5.843</td>\n",
       "      <td>14.925</td>\n",
       "      <td>-5.861</td>\n",
       "      <td>8.245</td>\n",
       "      <td>2.306</td>\n",
       "      <td>2.810</td>\n",
       "      <td>13.846</td>\n",
       "      <td>11.970</td>\n",
       "      <td>6.457</td>\n",
       "      <td>14.837</td>\n",
       "      <td>10.743</td>\n",
       "      <td>-0.430</td>\n",
       "      <td>15.943</td>\n",
       "      <td>13.726</td>\n",
       "      <td>20.301</td>\n",
       "      <td>12.558</td>\n",
       "      <td>6.820</td>\n",
       "      <td>2.723</td>\n",
       "      <td>12.135</td>\n",
       "      <td>13.737</td>\n",
       "      <td>0.814</td>\n",
       "      <td>-0.906</td>\n",
       "      <td>5.907</td>\n",
       "      <td>2.841</td>\n",
       "      <td>-15.240</td>\n",
       "      <td>10.441</td>\n",
       "      <td>-2.573</td>\n",
       "      <td>6.180</td>\n",
       "      <td>10.609</td>\n",
       "      <td>-5.916</td>\n",
       "      <td>8.172</td>\n",
       "      <td>2.852</td>\n",
       "      <td>...</td>\n",
       "      <td>31.883</td>\n",
       "      <td>5.968</td>\n",
       "      <td>7.208</td>\n",
       "      <td>3.890</td>\n",
       "      <td>-11.088</td>\n",
       "      <td>17.250</td>\n",
       "      <td>2.588</td>\n",
       "      <td>-2.702</td>\n",
       "      <td>0.564</td>\n",
       "      <td>5.343</td>\n",
       "      <td>-7.154</td>\n",
       "      <td>-6.192</td>\n",
       "      <td>18.237</td>\n",
       "      <td>11.713</td>\n",
       "      <td>14.748</td>\n",
       "      <td>8.101</td>\n",
       "      <td>11.877</td>\n",
       "      <td>13.955</td>\n",
       "      <td>-10.470</td>\n",
       "      <td>5.696</td>\n",
       "      <td>-3.755</td>\n",
       "      <td>8.412</td>\n",
       "      <td>1.899</td>\n",
       "      <td>7.260</td>\n",
       "      <td>-0.464</td>\n",
       "      <td>-0.050</td>\n",
       "      <td>7.934</td>\n",
       "      <td>-12.828</td>\n",
       "      <td>12.412</td>\n",
       "      <td>1.849</td>\n",
       "      <td>4.467</td>\n",
       "      <td>4.743</td>\n",
       "      <td>0.718</td>\n",
       "      <td>1.421</td>\n",
       "      <td>23.035</td>\n",
       "      <td>-1.271</td>\n",
       "      <td>-2.928</td>\n",
       "      <td>10.292</td>\n",
       "      <td>17.970</td>\n",
       "      <td>-9.000</td>\n",
       "    </tr>\n",
       "    <tr>\n",
       "      <th>4</th>\n",
       "      <td>train_4</td>\n",
       "      <td>0.000</td>\n",
       "      <td>9.837</td>\n",
       "      <td>-1.483</td>\n",
       "      <td>12.875</td>\n",
       "      <td>6.638</td>\n",
       "      <td>12.277</td>\n",
       "      <td>2.449</td>\n",
       "      <td>5.941</td>\n",
       "      <td>19.251</td>\n",
       "      <td>6.265</td>\n",
       "      <td>7.678</td>\n",
       "      <td>-9.446</td>\n",
       "      <td>-12.142</td>\n",
       "      <td>13.848</td>\n",
       "      <td>7.889</td>\n",
       "      <td>7.789</td>\n",
       "      <td>15.055</td>\n",
       "      <td>8.487</td>\n",
       "      <td>-3.068</td>\n",
       "      <td>6.526</td>\n",
       "      <td>11.315</td>\n",
       "      <td>21.425</td>\n",
       "      <td>18.961</td>\n",
       "      <td>10.110</td>\n",
       "      <td>2.714</td>\n",
       "      <td>14.208</td>\n",
       "      <td>13.543</td>\n",
       "      <td>3.174</td>\n",
       "      <td>-3.342</td>\n",
       "      <td>5.902</td>\n",
       "      <td>7.935</td>\n",
       "      <td>-3.158</td>\n",
       "      <td>9.467</td>\n",
       "      <td>-0.008</td>\n",
       "      <td>19.324</td>\n",
       "      <td>12.406</td>\n",
       "      <td>0.633</td>\n",
       "      <td>2.792</td>\n",
       "      <td>5.818</td>\n",
       "      <td>...</td>\n",
       "      <td>33.511</td>\n",
       "      <td>5.695</td>\n",
       "      <td>5.466</td>\n",
       "      <td>18.220</td>\n",
       "      <td>6.577</td>\n",
       "      <td>21.261</td>\n",
       "      <td>3.230</td>\n",
       "      <td>-1.776</td>\n",
       "      <td>3.128</td>\n",
       "      <td>5.552</td>\n",
       "      <td>1.449</td>\n",
       "      <td>-2.663</td>\n",
       "      <td>19.806</td>\n",
       "      <td>2.370</td>\n",
       "      <td>18.468</td>\n",
       "      <td>16.331</td>\n",
       "      <td>-3.346</td>\n",
       "      <td>13.526</td>\n",
       "      <td>1.719</td>\n",
       "      <td>5.174</td>\n",
       "      <td>-7.694</td>\n",
       "      <td>9.768</td>\n",
       "      <td>4.891</td>\n",
       "      <td>12.220</td>\n",
       "      <td>11.850</td>\n",
       "      <td>-7.893</td>\n",
       "      <td>6.421</td>\n",
       "      <td>5.927</td>\n",
       "      <td>16.020</td>\n",
       "      <td>-0.283</td>\n",
       "      <td>-1.490</td>\n",
       "      <td>9.521</td>\n",
       "      <td>-0.151</td>\n",
       "      <td>9.194</td>\n",
       "      <td>13.288</td>\n",
       "      <td>-1.512</td>\n",
       "      <td>3.927</td>\n",
       "      <td>9.503</td>\n",
       "      <td>17.997</td>\n",
       "      <td>-8.810</td>\n",
       "    </tr>\n",
       "  </tbody>\n",
       "</table>\n",
       "</div>"
      ],
      "text/plain": [
       "   ID_code  target  var_0  var_1   ...     var_196  var_197  var_198  var_199\n",
       "0  train_0   0.000  8.925 -6.786   ...       7.878    8.563   12.780   -1.091\n",
       "1  train_1   0.000 11.501 -4.147   ...       8.127    8.789   18.356    1.952\n",
       "2  train_2   0.000  8.609 -2.746   ...      -6.521    8.268   14.722    0.397\n",
       "3  train_3   0.000 11.060 -2.152   ...      -2.928   10.292   17.970   -9.000\n",
       "4  train_4   0.000  9.837 -1.483   ...       3.927    9.503   17.997   -8.810\n",
       "\n",
       "[5 rows x 202 columns]"
      ]
     },
     "execution_count": 9,
     "metadata": {},
     "output_type": "execute_result"
    }
   ],
   "source": [
    "all_data.head()"
   ]
  },
  {
   "cell_type": "code",
   "execution_count": 10,
   "metadata": {
    "_uuid": "cfd12a837b0be5d8bc083b526826c94b59c3b902"
   },
   "outputs": [],
   "source": [
    "numcols = all_data.drop('target',axis=1).select_dtypes(include='number').columns.values"
   ]
  },
  {
   "cell_type": "markdown",
   "metadata": {
    "_uuid": "be29e60bc2da2e8c9e57c6ab95b8f185eefda129"
   },
   "source": [
    "- drop constant columns"
   ]
  },
  {
   "cell_type": "code",
   "execution_count": 11,
   "metadata": {
    "_uuid": "a6da8bb8b38e5682a78d2126be7748d285d22a48"
   },
   "outputs": [
    {
     "name": "stdout",
     "output_type": "stream",
     "text": [
      "drop columns: []\n"
     ]
    }
   ],
   "source": [
    "# drop constant column\n",
    "constant_column = [col for col in all_data.columns if all_data[col].nunique() == 1]\n",
    "print('drop columns:', constant_column)\n",
    "all_data.drop(constant_column, axis=1, inplace=True)"
   ]
  },
  {
   "cell_type": "markdown",
   "metadata": {
    "_uuid": "7227c902fad58e4d3cdb0f21de2031b96cd9be57"
   },
   "source": [
    "- drop high correlation columns"
   ]
  },
  {
   "cell_type": "code",
   "execution_count": 12,
   "metadata": {
    "_uuid": "cf0d73513425e03130cd5ad43a8df8b0c1b4b177"
   },
   "outputs": [
    {
     "name": "stdout",
     "output_type": "stream",
     "text": [
      "drop columns: Index([], dtype='object')\n"
     ]
    }
   ],
   "source": [
    "corr_matrix = all_data.corr().abs()\n",
    "upper = corr_matrix.where(np.triu(np.ones(corr_matrix.shape), k=1).astype(np.bool))\n",
    "to_drop = [c for c in upper.columns if any(upper[c] > 0.95)]\n",
    "del upper\n",
    "\n",
    "drop_column = all_data.columns[to_drop]\n",
    "print('drop columns:', drop_column)\n",
    "#all_data.drop(drop_column, axis=1, inplace=True)"
   ]
  },
  {
   "cell_type": "markdown",
   "metadata": {
    "_uuid": "02e9347522a1c2d102ec1cda7cb6d2d37f0e0dda"
   },
   "source": [
    "- factorize"
   ]
  },
  {
   "cell_type": "code",
   "execution_count": 13,
   "metadata": {
    "_uuid": "4330c10d019e219290a9e9ee4cebfb970f9e1d39"
   },
   "outputs": [],
   "source": [
    "cols = [col for col in all_data.columns if col not in ['ID_code']]\n",
    "for i, t in all_data.loc[:, cols].dtypes.iteritems():\n",
    "    if t == object:\n",
    "        print(i)\n",
    "        all_data[i] = pd.factorize(all_data[i])[0]"
   ]
  },
  {
   "cell_type": "markdown",
   "metadata": {
    "_uuid": "a3ac3ebbc20c76facf5d39cdcd145f041f14cc59"
   },
   "source": [
    "- scaling"
   ]
  },
  {
   "cell_type": "code",
   "execution_count": 14,
   "metadata": {
    "_uuid": "09f4e1ff584a700d0e27df1a37a53595096b671a"
   },
   "outputs": [],
   "source": [
    "from sklearn import preprocessing\n",
    "\n",
    "scaler = preprocessing.StandardScaler()\n",
    "#scaler = preprocessing.MaxAbsScaler()\n",
    "all_data.loc[:,numcols] = scaler.fit_transform(all_data[numcols])"
   ]
  },
  {
   "cell_type": "code",
   "execution_count": 15,
   "metadata": {
    "_uuid": "d25d0f9f03e92d94dca5e7441caacb8f3cc1e9a6"
   },
   "outputs": [],
   "source": [
    "_='''noneffective\n",
    "feats = [\"var_{}\".format(i) for i in range(200)]\n",
    "for f in feats:\n",
    "    all_data[f] = pd.cut(all_data[f], 100, labels=range(100))\n",
    "'''"
   ]
  },
  {
   "cell_type": "code",
   "execution_count": 16,
   "metadata": {
    "_uuid": "61bd02481016181e4949acbac781ff17786aebe1"
   },
   "outputs": [
    {
     "data": {
      "text/html": [
       "<div>\n",
       "<style scoped>\n",
       "    .dataframe tbody tr th:only-of-type {\n",
       "        vertical-align: middle;\n",
       "    }\n",
       "\n",
       "    .dataframe tbody tr th {\n",
       "        vertical-align: top;\n",
       "    }\n",
       "\n",
       "    .dataframe thead th {\n",
       "        text-align: right;\n",
       "    }\n",
       "</style>\n",
       "<table border=\"1\" class=\"dataframe\">\n",
       "  <thead>\n",
       "    <tr style=\"text-align: right;\">\n",
       "      <th></th>\n",
       "      <th>ID_code</th>\n",
       "      <th>target</th>\n",
       "      <th>var_0</th>\n",
       "      <th>var_1</th>\n",
       "      <th>var_2</th>\n",
       "      <th>var_3</th>\n",
       "      <th>var_4</th>\n",
       "      <th>var_5</th>\n",
       "      <th>var_6</th>\n",
       "      <th>var_7</th>\n",
       "      <th>var_8</th>\n",
       "      <th>var_9</th>\n",
       "      <th>var_10</th>\n",
       "      <th>var_11</th>\n",
       "      <th>var_12</th>\n",
       "      <th>var_13</th>\n",
       "      <th>var_14</th>\n",
       "      <th>var_15</th>\n",
       "      <th>var_16</th>\n",
       "      <th>var_17</th>\n",
       "      <th>var_18</th>\n",
       "      <th>var_19</th>\n",
       "      <th>var_20</th>\n",
       "      <th>var_21</th>\n",
       "      <th>var_22</th>\n",
       "      <th>var_23</th>\n",
       "      <th>var_24</th>\n",
       "      <th>var_25</th>\n",
       "      <th>var_26</th>\n",
       "      <th>var_27</th>\n",
       "      <th>var_28</th>\n",
       "      <th>var_29</th>\n",
       "      <th>var_30</th>\n",
       "      <th>var_31</th>\n",
       "      <th>var_32</th>\n",
       "      <th>var_33</th>\n",
       "      <th>var_34</th>\n",
       "      <th>var_35</th>\n",
       "      <th>var_36</th>\n",
       "      <th>var_37</th>\n",
       "      <th>...</th>\n",
       "      <th>var_160</th>\n",
       "      <th>var_161</th>\n",
       "      <th>var_162</th>\n",
       "      <th>var_163</th>\n",
       "      <th>var_164</th>\n",
       "      <th>var_165</th>\n",
       "      <th>var_166</th>\n",
       "      <th>var_167</th>\n",
       "      <th>var_168</th>\n",
       "      <th>var_169</th>\n",
       "      <th>var_170</th>\n",
       "      <th>var_171</th>\n",
       "      <th>var_172</th>\n",
       "      <th>var_173</th>\n",
       "      <th>var_174</th>\n",
       "      <th>var_175</th>\n",
       "      <th>var_176</th>\n",
       "      <th>var_177</th>\n",
       "      <th>var_178</th>\n",
       "      <th>var_179</th>\n",
       "      <th>var_180</th>\n",
       "      <th>var_181</th>\n",
       "      <th>var_182</th>\n",
       "      <th>var_183</th>\n",
       "      <th>var_184</th>\n",
       "      <th>var_185</th>\n",
       "      <th>var_186</th>\n",
       "      <th>var_187</th>\n",
       "      <th>var_188</th>\n",
       "      <th>var_189</th>\n",
       "      <th>var_190</th>\n",
       "      <th>var_191</th>\n",
       "      <th>var_192</th>\n",
       "      <th>var_193</th>\n",
       "      <th>var_194</th>\n",
       "      <th>var_195</th>\n",
       "      <th>var_196</th>\n",
       "      <th>var_197</th>\n",
       "      <th>var_198</th>\n",
       "      <th>var_199</th>\n",
       "    </tr>\n",
       "  </thead>\n",
       "  <tbody>\n",
       "    <tr>\n",
       "      <th>0</th>\n",
       "      <td>train_0</td>\n",
       "      <td>0.000</td>\n",
       "      <td>-0.574</td>\n",
       "      <td>-1.276</td>\n",
       "      <td>0.454</td>\n",
       "      <td>-0.830</td>\n",
       "      <td>0.237</td>\n",
       "      <td>-0.537</td>\n",
       "      <td>-0.339</td>\n",
       "      <td>0.611</td>\n",
       "      <td>-1.560</td>\n",
       "      <td>-1.477</td>\n",
       "      <td>0.462</td>\n",
       "      <td>1.079</td>\n",
       "      <td>-0.051</td>\n",
       "      <td>-1.718</td>\n",
       "      <td>0.561</td>\n",
       "      <td>-0.010</td>\n",
       "      <td>-1.403</td>\n",
       "      <td>-0.229</td>\n",
       "      <td>-1.398</td>\n",
       "      <td>2.285</td>\n",
       "      <td>-0.469</td>\n",
       "      <td>-0.125</td>\n",
       "      <td>-0.605</td>\n",
       "      <td>-1.039</td>\n",
       "      <td>1.009</td>\n",
       "      <td>-0.822</td>\n",
       "      <td>-0.190</td>\n",
       "      <td>0.477</td>\n",
       "      <td>-0.766</td>\n",
       "      <td>0.362</td>\n",
       "      <td>0.926</td>\n",
       "      <td>1.161</td>\n",
       "      <td>-1.297</td>\n",
       "      <td>0.491</td>\n",
       "      <td>-0.448</td>\n",
       "      <td>1.299</td>\n",
       "      <td>-0.488</td>\n",
       "      <td>0.894</td>\n",
       "      <td>...</td>\n",
       "      <td>-0.804</td>\n",
       "      <td>-1.473</td>\n",
       "      <td>-1.227</td>\n",
       "      <td>-1.135</td>\n",
       "      <td>1.748</td>\n",
       "      <td>-1.322</td>\n",
       "      <td>-0.710</td>\n",
       "      <td>0.444</td>\n",
       "      <td>1.506</td>\n",
       "      <td>-0.400</td>\n",
       "      <td>-1.075</td>\n",
       "      <td>-1.414</td>\n",
       "      <td>0.124</td>\n",
       "      <td>0.640</td>\n",
       "      <td>-0.235</td>\n",
       "      <td>-1.349</td>\n",
       "      <td>-0.974</td>\n",
       "      <td>0.704</td>\n",
       "      <td>-0.296</td>\n",
       "      <td>-0.309</td>\n",
       "      <td>-1.082</td>\n",
       "      <td>-0.778</td>\n",
       "      <td>0.266</td>\n",
       "      <td>1.253</td>\n",
       "      <td>1.406</td>\n",
       "      <td>2.085</td>\n",
       "      <td>0.896</td>\n",
       "      <td>-0.813</td>\n",
       "      <td>0.559</td>\n",
       "      <td>-0.169</td>\n",
       "      <td>0.269</td>\n",
       "      <td>-1.152</td>\n",
       "      <td>0.818</td>\n",
       "      <td>-0.410</td>\n",
       "      <td>0.168</td>\n",
       "      <td>-1.581</td>\n",
       "      <td>1.024</td>\n",
       "      <td>-0.376</td>\n",
       "      <td>-1.027</td>\n",
       "      <td>0.211</td>\n",
       "    </tr>\n",
       "    <tr>\n",
       "      <th>1</th>\n",
       "      <td>train_1</td>\n",
       "      <td>0.000</td>\n",
       "      <td>0.274</td>\n",
       "      <td>-0.623</td>\n",
       "      <td>1.193</td>\n",
       "      <td>-0.685</td>\n",
       "      <td>0.793</td>\n",
       "      <td>1.538</td>\n",
       "      <td>0.241</td>\n",
       "      <td>-0.001</td>\n",
       "      <td>0.860</td>\n",
       "      <td>0.419</td>\n",
       "      <td>-0.143</td>\n",
       "      <td>1.897</td>\n",
       "      <td>0.003</td>\n",
       "      <td>-0.026</td>\n",
       "      <td>-0.933</td>\n",
       "      <td>-2.121</td>\n",
       "      <td>1.764</td>\n",
       "      <td>-1.469</td>\n",
       "      <td>-0.950</td>\n",
       "      <td>2.017</td>\n",
       "      <td>-1.678</td>\n",
       "      <td>-1.769</td>\n",
       "      <td>1.493</td>\n",
       "      <td>0.667</td>\n",
       "      <td>-0.953</td>\n",
       "      <td>0.784</td>\n",
       "      <td>-1.306</td>\n",
       "      <td>-0.935</td>\n",
       "      <td>-0.619</td>\n",
       "      <td>-1.723</td>\n",
       "      <td>-0.202</td>\n",
       "      <td>-1.169</td>\n",
       "      <td>0.697</td>\n",
       "      <td>1.064</td>\n",
       "      <td>-0.119</td>\n",
       "      <td>-0.602</td>\n",
       "      <td>0.192</td>\n",
       "      <td>-0.013</td>\n",
       "      <td>...</td>\n",
       "      <td>0.486</td>\n",
       "      <td>1.074</td>\n",
       "      <td>-1.083</td>\n",
       "      <td>0.915</td>\n",
       "      <td>-0.393</td>\n",
       "      <td>-0.831</td>\n",
       "      <td>0.641</td>\n",
       "      <td>1.727</td>\n",
       "      <td>-0.340</td>\n",
       "      <td>0.449</td>\n",
       "      <td>1.255</td>\n",
       "      <td>1.100</td>\n",
       "      <td>0.258</td>\n",
       "      <td>1.035</td>\n",
       "      <td>1.405</td>\n",
       "      <td>-0.395</td>\n",
       "      <td>-0.590</td>\n",
       "      <td>1.788</td>\n",
       "      <td>-0.742</td>\n",
       "      <td>3.030</td>\n",
       "      <td>-0.546</td>\n",
       "      <td>-0.434</td>\n",
       "      <td>-1.740</td>\n",
       "      <td>0.147</td>\n",
       "      <td>1.052</td>\n",
       "      <td>-0.188</td>\n",
       "      <td>-0.413</td>\n",
       "      <td>-0.486</td>\n",
       "      <td>-0.522</td>\n",
       "      <td>-1.134</td>\n",
       "      <td>0.972</td>\n",
       "      <td>0.090</td>\n",
       "      <td>0.444</td>\n",
       "      <td>1.909</td>\n",
       "      <td>-0.817</td>\n",
       "      <td>1.519</td>\n",
       "      <td>1.070</td>\n",
       "      <td>-0.132</td>\n",
       "      <td>0.826</td>\n",
       "      <td>0.503</td>\n",
       "    </tr>\n",
       "    <tr>\n",
       "      <th>2</th>\n",
       "      <td>train_2</td>\n",
       "      <td>0.000</td>\n",
       "      <td>-0.678</td>\n",
       "      <td>-0.277</td>\n",
       "      <td>0.519</td>\n",
       "      <td>0.537</td>\n",
       "      <td>-0.306</td>\n",
       "      <td>-0.512</td>\n",
       "      <td>1.768</td>\n",
       "      <td>-0.562</td>\n",
       "      <td>-1.560</td>\n",
       "      <td>-1.310</td>\n",
       "      <td>-0.129</td>\n",
       "      <td>-1.342</td>\n",
       "      <td>0.892</td>\n",
       "      <td>-0.264</td>\n",
       "      <td>-0.005</td>\n",
       "      <td>0.179</td>\n",
       "      <td>-0.646</td>\n",
       "      <td>0.589</td>\n",
       "      <td>-1.345</td>\n",
       "      <td>1.005</td>\n",
       "      <td>0.759</td>\n",
       "      <td>0.109</td>\n",
       "      <td>-1.085</td>\n",
       "      <td>0.937</td>\n",
       "      <td>-1.298</td>\n",
       "      <td>-1.575</td>\n",
       "      <td>-0.670</td>\n",
       "      <td>-1.161</td>\n",
       "      <td>0.401</td>\n",
       "      <td>0.418</td>\n",
       "      <td>-0.429</td>\n",
       "      <td>0.967</td>\n",
       "      <td>-0.683</td>\n",
       "      <td>0.988</td>\n",
       "      <td>-0.720</td>\n",
       "      <td>0.049</td>\n",
       "      <td>0.800</td>\n",
       "      <td>0.472</td>\n",
       "      <td>...</td>\n",
       "      <td>-1.011</td>\n",
       "      <td>0.963</td>\n",
       "      <td>-0.459</td>\n",
       "      <td>-1.007</td>\n",
       "      <td>0.334</td>\n",
       "      <td>0.237</td>\n",
       "      <td>0.853</td>\n",
       "      <td>-0.182</td>\n",
       "      <td>0.770</td>\n",
       "      <td>0.365</td>\n",
       "      <td>-1.601</td>\n",
       "      <td>-0.575</td>\n",
       "      <td>-1.446</td>\n",
       "      <td>-0.862</td>\n",
       "      <td>0.763</td>\n",
       "      <td>-0.249</td>\n",
       "      <td>0.329</td>\n",
       "      <td>-1.153</td>\n",
       "      <td>-1.017</td>\n",
       "      <td>-0.066</td>\n",
       "      <td>-0.298</td>\n",
       "      <td>-0.505</td>\n",
       "      <td>-1.556</td>\n",
       "      <td>-1.256</td>\n",
       "      <td>1.111</td>\n",
       "      <td>-0.281</td>\n",
       "      <td>-1.126</td>\n",
       "      <td>0.350</td>\n",
       "      <td>-1.315</td>\n",
       "      <td>-1.631</td>\n",
       "      <td>-0.067</td>\n",
       "      <td>0.774</td>\n",
       "      <td>-0.173</td>\n",
       "      <td>-0.411</td>\n",
       "      <td>1.150</td>\n",
       "      <td>2.294</td>\n",
       "      <td>-1.618</td>\n",
       "      <td>-0.698</td>\n",
       "      <td>-0.381</td>\n",
       "      <td>0.354</td>\n",
       "    </tr>\n",
       "    <tr>\n",
       "      <th>3</th>\n",
       "      <td>train_3</td>\n",
       "      <td>0.000</td>\n",
       "      <td>0.129</td>\n",
       "      <td>-0.130</td>\n",
       "      <td>-0.667</td>\n",
       "      <td>0.197</td>\n",
       "      <td>0.931</td>\n",
       "      <td>0.410</td>\n",
       "      <td>0.498</td>\n",
       "      <td>-0.471</td>\n",
       "      <td>-1.843</td>\n",
       "      <td>0.549</td>\n",
       "      <td>0.349</td>\n",
       "      <td>1.017</td>\n",
       "      <td>-0.931</td>\n",
       "      <td>0.741</td>\n",
       "      <td>-0.479</td>\n",
       "      <td>0.641</td>\n",
       "      <td>0.555</td>\n",
       "      <td>0.783</td>\n",
       "      <td>0.088</td>\n",
       "      <td>0.160</td>\n",
       "      <td>1.192</td>\n",
       "      <td>-0.572</td>\n",
       "      <td>0.885</td>\n",
       "      <td>-0.563</td>\n",
       "      <td>0.413</td>\n",
       "      <td>0.243</td>\n",
       "      <td>0.814</td>\n",
       "      <td>0.149</td>\n",
       "      <td>0.478</td>\n",
       "      <td>-0.846</td>\n",
       "      <td>-0.948</td>\n",
       "      <td>0.019</td>\n",
       "      <td>-0.794</td>\n",
       "      <td>-1.986</td>\n",
       "      <td>-1.525</td>\n",
       "      <td>-1.888</td>\n",
       "      <td>1.914</td>\n",
       "      <td>-1.340</td>\n",
       "      <td>...</td>\n",
       "      <td>0.706</td>\n",
       "      <td>1.533</td>\n",
       "      <td>1.298</td>\n",
       "      <td>-1.353</td>\n",
       "      <td>-1.507</td>\n",
       "      <td>-0.411</td>\n",
       "      <td>-1.013</td>\n",
       "      <td>0.188</td>\n",
       "      <td>-1.411</td>\n",
       "      <td>-0.794</td>\n",
       "      <td>-1.615</td>\n",
       "      <td>-0.999</td>\n",
       "      <td>-0.180</td>\n",
       "      <td>2.072</td>\n",
       "      <td>-0.769</td>\n",
       "      <td>-1.224</td>\n",
       "      <td>1.946</td>\n",
       "      <td>0.792</td>\n",
       "      <td>-1.107</td>\n",
       "      <td>1.110</td>\n",
       "      <td>-0.195</td>\n",
       "      <td>-1.219</td>\n",
       "      <td>0.135</td>\n",
       "      <td>-0.338</td>\n",
       "      <td>-1.417</td>\n",
       "      <td>0.830</td>\n",
       "      <td>-0.325</td>\n",
       "      <td>-0.217</td>\n",
       "      <td>-0.752</td>\n",
       "      <td>1.125</td>\n",
       "      <td>0.275</td>\n",
       "      <td>-0.894</td>\n",
       "      <td>-0.817</td>\n",
       "      <td>-0.477</td>\n",
       "      <td>1.606</td>\n",
       "      <td>-0.792</td>\n",
       "      <td>-0.959</td>\n",
       "      <td>1.500</td>\n",
       "      <td>0.698</td>\n",
       "      <td>-0.548</td>\n",
       "    </tr>\n",
       "    <tr>\n",
       "      <th>4</th>\n",
       "      <td>train_4</td>\n",
       "      <td>0.000</td>\n",
       "      <td>-0.274</td>\n",
       "      <td>0.035</td>\n",
       "      <td>0.820</td>\n",
       "      <td>-0.076</td>\n",
       "      <td>0.741</td>\n",
       "      <td>0.954</td>\n",
       "      <td>0.610</td>\n",
       "      <td>0.793</td>\n",
       "      <td>1.796</td>\n",
       "      <td>0.089</td>\n",
       "      <td>-1.785</td>\n",
       "      <td>-1.489</td>\n",
       "      <td>-0.922</td>\n",
       "      <td>-0.139</td>\n",
       "      <td>0.113</td>\n",
       "      <td>1.171</td>\n",
       "      <td>-0.329</td>\n",
       "      <td>0.391</td>\n",
       "      <td>-1.112</td>\n",
       "      <td>-0.142</td>\n",
       "      <td>1.383</td>\n",
       "      <td>0.209</td>\n",
       "      <td>2.041</td>\n",
       "      <td>-0.579</td>\n",
       "      <td>0.962</td>\n",
       "      <td>-0.434</td>\n",
       "      <td>1.212</td>\n",
       "      <td>-1.449</td>\n",
       "      <td>0.471</td>\n",
       "      <td>1.104</td>\n",
       "      <td>0.568</td>\n",
       "      <td>-0.432</td>\n",
       "      <td>0.197</td>\n",
       "      <td>1.054</td>\n",
       "      <td>1.794</td>\n",
       "      <td>-0.623</td>\n",
       "      <td>0.190</td>\n",
       "      <td>-0.024</td>\n",
       "      <td>...</td>\n",
       "      <td>0.856</td>\n",
       "      <td>0.280</td>\n",
       "      <td>0.073</td>\n",
       "      <td>1.369</td>\n",
       "      <td>1.730</td>\n",
       "      <td>0.386</td>\n",
       "      <td>0.722</td>\n",
       "      <td>0.306</td>\n",
       "      <td>-0.583</td>\n",
       "      <td>-0.226</td>\n",
       "      <td>0.331</td>\n",
       "      <td>-0.343</td>\n",
       "      <td>0.001</td>\n",
       "      <td>0.509</td>\n",
       "      <td>-0.248</td>\n",
       "      <td>1.625</td>\n",
       "      <td>-0.074</td>\n",
       "      <td>0.629</td>\n",
       "      <td>0.315</td>\n",
       "      <td>0.924</td>\n",
       "      <td>-0.946</td>\n",
       "      <td>-0.230</td>\n",
       "      <td>0.469</td>\n",
       "      <td>0.772</td>\n",
       "      <td>-0.095</td>\n",
       "      <td>-0.830</td>\n",
       "      <td>-0.798</td>\n",
       "      <td>1.404</td>\n",
       "      <td>0.165</td>\n",
       "      <td>-1.059</td>\n",
       "      <td>-1.032</td>\n",
       "      <td>0.685</td>\n",
       "      <td>-1.405</td>\n",
       "      <td>1.469</td>\n",
       "      <td>-1.500</td>\n",
       "      <td>-0.961</td>\n",
       "      <td>0.299</td>\n",
       "      <td>0.643</td>\n",
       "      <td>0.707</td>\n",
       "      <td>-0.530</td>\n",
       "    </tr>\n",
       "  </tbody>\n",
       "</table>\n",
       "</div>"
      ],
      "text/plain": [
       "   ID_code  target  var_0  var_1   ...     var_196  var_197  var_198  var_199\n",
       "0  train_0   0.000 -0.574 -1.276   ...       1.024   -0.376   -1.027    0.211\n",
       "1  train_1   0.000  0.274 -0.623   ...       1.070   -0.132    0.826    0.503\n",
       "2  train_2   0.000 -0.678 -0.277   ...      -1.618   -0.698   -0.381    0.354\n",
       "3  train_3   0.000  0.129 -0.130   ...      -0.959    1.500    0.698   -0.548\n",
       "4  train_4   0.000 -0.274  0.035   ...       0.299    0.643    0.707   -0.530\n",
       "\n",
       "[5 rows x 202 columns]"
      ]
     },
     "execution_count": 16,
     "metadata": {},
     "output_type": "execute_result"
    }
   ],
   "source": [
    "all_data.head()"
   ]
  },
  {
   "cell_type": "markdown",
   "metadata": {
    "_uuid": "3fe5fea78450f0044869657d8bb40bb2ae8ca638"
   },
   "source": [
    "## Preparation"
   ]
  },
  {
   "cell_type": "code",
   "execution_count": 17,
   "metadata": {
    "_uuid": "3e2c671345a95d167d1a312abdf6c31e7161a22f"
   },
   "outputs": [
    {
     "name": "stdout",
     "output_type": "stream",
     "text": [
      "(200000, 200) (200000, 200)\n"
     ]
    }
   ],
   "source": [
    "X_train = all_data[all_data['target'].notnull()].reset_index(drop=True)\n",
    "X_test = all_data[all_data['target'].isnull()].drop(['target'], axis=1).reset_index(drop=True)\n",
    "del all_data\n",
    "gc.collect()\n",
    "\n",
    "# drop ID_code\n",
    "X_train.drop(['ID_code'], axis=1, inplace=True)\n",
    "X_test_ID = X_test.pop('ID_code')\n",
    "\n",
    "Y_train = X_train.pop('target')\n",
    "\n",
    "print(X_train.shape, X_test.shape)"
   ]
  },
  {
   "cell_type": "code",
   "execution_count": 18,
   "metadata": {
    "_uuid": "c5ede40f2249b0649aff87ecca6f5905f87cb03f"
   },
   "outputs": [],
   "source": [
    "_='''\n",
    "def get_redundant_pairs(df):\n",
    "    # Get diagonal and lower triangular pairs of correlation matrix\n",
    "    pairs_to_drop = set()\n",
    "    cols = df.columns\n",
    "    for i in range(0, df.shape[1]):\n",
    "        for j in range(0, i+1):\n",
    "            pairs_to_drop.add((cols[i], cols[j]))\n",
    "    return pairs_to_drop\n",
    "\n",
    "def get_top_abs_correlations(df, n=5):\n",
    "    au_corr = df.corr().abs().unstack()\n",
    "    labels_to_drop = get_redundant_pairs(df)\n",
    "    au_corr = au_corr.drop(labels=labels_to_drop).sort_values(ascending=False)\n",
    "    return au_corr[0:n]\n",
    "\n",
    "print(\"Top Absolute Correlations\")\n",
    "print(get_top_abs_correlations(X_train))\n",
    "'''"
   ]
  },
  {
   "cell_type": "code",
   "execution_count": 19,
   "metadata": {
    "_uuid": "c821b8837021dbb722e1998d0065505f2ca5f125"
   },
   "outputs": [],
   "source": [
    "_='''noneffective\n",
    "from imblearn.over_sampling import SMOTE,ADASYN\n",
    "#from imblearn.combine import SMOTETomek\n",
    "\n",
    "sm = SMOTE(random_state=42)\n",
    "#sm = SMOTE(kind='svm',random_state=42)\n",
    "#sm = SMOTE(kind='borderline1',random_state=42)\n",
    "#sm = ADASYN(random_state=42)\n",
    "#sm = SMOTETomek(random_state=42)\n",
    "X_train, Y_train = sm.fit_sample(X_train, Y_train)\n",
    "X_train = pd.DataFrame(X_train, columns=X_test.columns)\n",
    "print(X_train.shape)\n",
    "'''"
   ]
  },
  {
   "cell_type": "code",
   "execution_count": 20,
   "metadata": {
    "_uuid": "0c86487ee719c2fe87409065e4d8e09cbec13e59"
   },
   "outputs": [],
   "source": [
    "#X_train['_negval'] = X_train.apply(lambda x: (x < 0).astype(int).sum(), axis=1)\n",
    "#X_test['_negval'] = X_train.apply(lambda x: (x < 0).astype(int).sum(), axis=1)"
   ]
  },
  {
   "cell_type": "markdown",
   "metadata": {
    "_uuid": "b105a1f614022ee91750a242e22b62700faaa2da"
   },
   "source": [
    "## KMeans"
   ]
  },
  {
   "cell_type": "code",
   "execution_count": 21,
   "metadata": {
    "_uuid": "75fc9272b92c223b614c9b6c8ed45da75c464fc2"
   },
   "outputs": [
    {
     "name": "stdout",
     "output_type": "stream",
     "text": [
      "1    108310\n",
      "0     91690\n",
      "dtype: int64\n",
      "1    107209\n",
      "0     92791\n",
      "dtype: int64\n"
     ]
    },
    {
     "data": {
      "text/plain": [
       "<matplotlib.axes._subplots.AxesSubplot at 0x7f3b856ddb00>"
      ]
     },
     "execution_count": 21,
     "metadata": {},
     "output_type": "execute_result"
    },
    {
     "data": {
      "image/png": "[encoded data removed]",
      "text/plain": [
       "<Figure size 432x288 with 1 Axes>"
      ]
     },
     "metadata": {},
     "output_type": "display_data"
    }
   ],
   "source": [
    "from sklearn.cluster import KMeans\n",
    "km = KMeans(n_clusters=2, init='k-means++', max_iter=3000, random_state=42)\n",
    "X_train_km = km.fit_predict(X_train)\n",
    "X_test_km = km.predict(X_test)\n",
    "\n",
    "print(pd.Series(X_train_km).value_counts())\n",
    "print(pd.Series(X_test_km).value_counts())\n",
    "\n",
    "km_data = pd.DataFrame({'KMeans':X_train_km, 'target':Y_train})\n",
    "sns.countplot(x='KMeans', hue='target', palette='Set1', data=km_data)"
   ]
  },
  {
   "cell_type": "markdown",
   "metadata": {
    "_uuid": "1d1f4506e5af56970afc9cfb5f46effdbb7d0ee2"
   },
   "source": [
    "## PCA, LDA, NB"
   ]
  },
  {
   "cell_type": "markdown",
   "metadata": {
    "_uuid": "2f4a824a9147a335fff948bbf755c6c20fd12cd0"
   },
   "source": [
    "- PCA is noneffective"
   ]
  },
  {
   "cell_type": "code",
   "execution_count": 22,
   "metadata": {
    "_uuid": "1b096b53560ad5d1d938da183fda696d4107c72a"
   },
   "outputs": [
    {
     "data": {
      "image/png": "[encoded data removed]",
      "text/plain": [
       "<Figure size 432x288 with 1 Axes>"
      ]
     },
     "metadata": {},
     "output_type": "display_data"
    }
   ],
   "source": [
    "from sklearn.decomposition import PCA, KernelPCA\n",
    "from sklearn.discriminant_analysis import LinearDiscriminantAnalysis as LDA\n",
    "from sklearn.naive_bayes import GaussianNB, BernoulliNB\n",
    "from sklearn.linear_model import LogisticRegression, SGDClassifier\n",
    "from sklearn.model_selection import cross_validate, cross_val_score, StratifiedKFold\n",
    "from sklearn import metrics\n",
    "\n",
    "pca = PCA()\n",
    "pca.fit(X_train)\n",
    "ev_ratio = pca.explained_variance_ratio_\n",
    "ev_ratio = np.hstack([0,ev_ratio.cumsum()])\n",
    "\n",
    "plt.xlabel('components')\n",
    "plt.plot(ev_ratio)\n",
    "plt.show()"
   ]
  },
  {
   "cell_type": "code",
   "execution_count": 23,
   "metadata": {
    "_uuid": "f9f99982ab73f899788336c570446ae6abcf5bce"
   },
   "outputs": [],
   "source": [
    "_='''\n",
    "def select_n_components(var_ratio, goal_var: float) -> int:\n",
    "    total_variance = 0.0\n",
    "    n_components = 0\n",
    "    for explained_variance in var_ratio:\n",
    "        total_variance += explained_variance\n",
    "        n_components += 1\n",
    "        if total_variance >= goal_var:\n",
    "            break\n",
    "            \n",
    "    return n_components\n",
    "\n",
    "lda = LDA(n_components=None)\n",
    "lda.fit(X_train, Y_train)\n",
    "print(select_n_components(lda.explained_variance_ratio_, 0.95))\n",
    "'''"
   ]
  },
  {
   "cell_type": "code",
   "execution_count": 24,
   "metadata": {
    "_uuid": "ba7b57abae4bcfbb5dee0ba4e91f7e7ec4c8e68f"
   },
   "outputs": [
    {
     "data": {
      "image/png": "[encoded data removed]",
      "text/plain": [
       "<Figure size 1152x432 with 4 Axes>"
      ]
     },
     "metadata": {},
     "output_type": "display_data"
    }
   ],
   "source": [
    "fig, ax = plt.subplots(2, 2, figsize=(16, 6))\n",
    "ax = ax.ravel()\n",
    "\n",
    "pca = PCA(n_components=1)\n",
    "X_train_pca = pca.fit_transform(X_train)\n",
    "X_test_pca = pca.fit_transform(X_test)\n",
    "pca_1 = X_train_pca[Y_train > 0].reshape(-1)\n",
    "pca_0 = X_train_pca[Y_train == 0].reshape(-1)\n",
    "ax[0].hist([pca_1, pca_0], color=['b','r'], bins=30, alpha=0.5, histtype='barstacked')\n",
    "ax[0].set_title('PCA visualization')\n",
    "\n",
    "lda = LDA(n_components=1)\n",
    "lda.fit(X_train, Y_train)\n",
    "X_train_lda = lda.transform(X_train)\n",
    "X_test_lda = lda.transform(X_test)\n",
    "lda_1 = X_train_lda[Y_train > 0].reshape(-1)\n",
    "lda_0 = X_train_lda[Y_train == 0].reshape(-1)\n",
    "ax[1].hist([lda_1, lda_0], color=['b','r'], bins=30, alpha=0.5, histtype='barstacked')\n",
    "ax[1].set_title('LDA visualization')\n",
    "\n",
    "ax[2].hist(X_test_pca, color='g', bins=30, alpha=0.5, histtype='barstacked')\n",
    "ax[3].hist(X_test_lda, color='g', bins=30, alpha=0.5, histtype='barstacked')\n",
    "\n",
    "plt.show()"
   ]
  },
  {
   "cell_type": "code",
   "execution_count": 25,
   "metadata": {
    "_uuid": "74437a29a460d052aeab5ba75f201fa37f925b63"
   },
   "outputs": [
    {
     "data": {
      "image/png": "[encoded data removed]",
      "text/plain": [
       "<Figure size 1152x432 with 4 Axes>"
      ]
     },
     "metadata": {},
     "output_type": "display_data"
    }
   ],
   "source": [
    "fig, ax = plt.subplots(2, 2, figsize=(16, 6))\n",
    "ax = ax.ravel()\n",
    "\n",
    "gnb = GaussianNB()\n",
    "gnb.fit(X_train, Y_train)\n",
    "X_train_gnb = gnb.predict_log_proba(X_train)[:,1]\n",
    "X_test_gnb = gnb.predict_log_proba(X_test)[:,1]\n",
    "gnb_1 = X_train_gnb[Y_train > 0].reshape(-1)\n",
    "gnb_0 = X_train_gnb[Y_train == 0].reshape(-1)\n",
    "ax[0].hist([gnb_1, gnb_0], color=['b','r'], bins=30, alpha=0.5, histtype='barstacked')\n",
    "ax[0].set_title('GaussianNB visualization')\n",
    "\n",
    "bnb = BernoulliNB()\n",
    "bnb.fit(X_train, Y_train)\n",
    "X_train_bnb = bnb.predict_log_proba(X_train)[:,1]\n",
    "X_test_bnb = bnb.predict_log_proba(X_test)[:,1]\n",
    "bnb_1 = X_train_bnb[Y_train > 0].reshape(-1)\n",
    "bnb_0 = X_train_bnb[Y_train == 0].reshape(-1)\n",
    "ax[1].hist([bnb_1, bnb_0], color=['b','r'], bins=30, alpha=0.5, histtype='barstacked')\n",
    "ax[1].set_title('BernoulliNB visualization')\n",
    "\n",
    "ax[2].hist(X_test_gnb, color='g', bins=30, alpha=0.5, histtype='barstacked')\n",
    "ax[3].hist(X_test_bnb, color='g', bins=30, alpha=0.5, histtype='barstacked')\n",
    "\n",
    "plt.show()"
   ]
  },
  {
   "cell_type": "code",
   "execution_count": 26,
   "metadata": {
    "_uuid": "23206569b85ef5e14929af7de329a8fd8247c6b3"
   },
   "outputs": [
    {
     "name": "stderr",
     "output_type": "stream",
     "text": [
      "/opt/conda/lib/python3.6/site-packages/sklearn/linear_model/logistic.py:433: FutureWarning: Default solver will be changed to 'lbfgs' in 0.22. Specify a solver to silence this warning.\n",
      "  FutureWarning)\n"
     ]
    },
    {
     "data": {
      "image/png": "[encoded data removed]",
      "text/plain": [
       "<Figure size 1152x432 with 4 Axes>"
      ]
     },
     "metadata": {},
     "output_type": "display_data"
    }
   ],
   "source": [
    "fig, ax = plt.subplots(2, 2, figsize=(16, 6))\n",
    "ax = ax.ravel()\n",
    "\n",
    "lgr = LogisticRegression()\n",
    "lgr.fit(X_train, Y_train)\n",
    "X_train_lgr = lgr.predict_log_proba(X_train)[:,1]\n",
    "X_test_lgr = lgr.predict_log_proba(X_test)[:,1]\n",
    "lgr_1 = X_train_lgr[Y_train > 0].reshape(-1)\n",
    "lgr_0 = X_train_lgr[Y_train == 0].reshape(-1)\n",
    "ax[0].hist([lgr_1, lgr_0], color=['b','r'], bins=30, alpha=0.5, histtype='barstacked')\n",
    "ax[0].set_title('LogisticRegression visualization')\n",
    "ax[2].hist(X_test_lgr, color='g', bins=30, alpha=0.5, histtype='barstacked')\n",
    "\n",
    "sgd = SGDClassifier(max_iter=10000, loss='log', tol=1e-5)\n",
    "sgd.fit(X_train, Y_train)\n",
    "X_train_sgd = sgd.predict_log_proba(X_train)[:,1]\n",
    "X_test_sgd = sgd.predict_log_proba(X_test)[:,1]\n",
    "sgd_1 = X_train_sgd[Y_train > 0].reshape(-1)\n",
    "sgd_0 = X_train_sgd[Y_train == 0].reshape(-1)\n",
    "ax[1].hist([sgd_1, sgd_0], color=['b','r'], bins=30, alpha=0.5, histtype='barstacked')\n",
    "ax[1].set_title('SGDClassifier visualization')\n",
    "ax[3].hist(X_test_sgd, color='g', bins=30, alpha=0.5, histtype='barstacked')\n",
    "plt.show()"
   ]
  },
  {
   "cell_type": "code",
   "execution_count": 27,
   "metadata": {
    "_uuid": "8362bdf307e606af403285d3ffc8969a162c0998"
   },
   "outputs": [
    {
     "data": {
      "image/png": "[encoded data removed]",
      "text/plain": [
       "<Figure size 1152x216 with 3 Axes>"
      ]
     },
     "metadata": {},
     "output_type": "display_data"
    }
   ],
   "source": [
    "_='''\n",
    "'''\n",
    "pca = PCA(n_components=3)\n",
    "X_train_pca = pca.fit_transform(X_train)\n",
    "X_test_pca = pca.transform(X_test)\n",
    "\n",
    "color = list(map(lambda x: 'r' if x == 1 else 'b', Y_train))\n",
    "fig, ax = plt.subplots(1, 3, figsize=(16, 3))\n",
    "ax[0].hist([X_train_pca[:,0][Y_train > 0], X_train_pca[:,0][Y_train == 0]], color=['b','r'], bins=30, alpha=0.5, histtype='barstacked')\n",
    "ax[1].hist([X_train_pca[:,1][Y_train > 0], X_train_pca[:,1][Y_train == 0]], color=['b','r'], bins=30, alpha=0.5, histtype='barstacked')\n",
    "ax[2].hist([X_train_pca[:,2][Y_train > 0], X_train_pca[:,2][Y_train == 0]], color=['b','r'], bins=30, alpha=0.5, histtype='barstacked')\n",
    "plt.show()"
   ]
  },
  {
   "cell_type": "code",
   "execution_count": 28,
   "metadata": {
    "_uuid": "02c9dde4bc54bca2dcb22bc121a16e59d693433e"
   },
   "outputs": [
    {
     "data": {
      "image/png": "[encoded data removed]",
      "text/plain": [
       "<Figure size 432x288 with 1 Axes>"
      ]
     },
     "metadata": {},
     "output_type": "display_data"
    }
   ],
   "source": [
    "fpr, tpr, thresholds = metrics.roc_curve(Y_train, X_train_gnb)\n",
    "auc = metrics.auc(fpr, tpr)\n",
    "\n",
    "plt.plot(fpr, tpr, label='ROC curve (area = %.2f)'%auc)\n",
    "plt.legend()\n",
    "plt.title('ROC curve')\n",
    "plt.xlabel('False Positive Rate')\n",
    "plt.ylabel('True Positive Rate')\n",
    "plt.show()"
   ]
  },
  {
   "cell_type": "code",
   "execution_count": 29,
   "metadata": {
    "_uuid": "fbae623ba11af3a47b8cea2f54d1d1790f13aeba"
   },
   "outputs": [
    {
     "name": "stdout",
     "output_type": "stream",
     "text": [
      "PCA, Accuracy: -283.7806 (+/- 0.1178)\n",
      "LDA, Accuracy: 0.9142 (+/- 0.0010)\n",
      "GNB, Accuracy: 0.9213 (+/- 0.0010)\n",
      "BNB, Accuracy: 0.9023 (+/- 0.0004)\n",
      "SGD, Accuracy: 0.9132 (+/- 0.0010)\n"
     ]
    }
   ],
   "source": [
    "skf = StratifiedKFold(n_splits=5, shuffle=True, random_state=42)\n",
    "\n",
    "scores = cross_val_score(PCA(n_components=1), X_train, Y_train, cv=skf)\n",
    "print(\"PCA, Accuracy: %0.4f (+/- %0.4f)\" % (scores.mean(), scores.std() * 2))\n",
    "    \n",
    "scores = cross_val_score(LDA(n_components=1), X_train, Y_train, cv=skf) # max components is (classes - 1)\n",
    "print(\"LDA, Accuracy: %0.4f (+/- %0.4f)\" % (scores.mean(), scores.std() * 2))\n",
    "    \n",
    "scores = cross_val_score(GaussianNB(), X_train, Y_train, cv=skf)\n",
    "print(\"GNB, Accuracy: %0.4f (+/- %0.4f)\" % (scores.mean(), scores.std() * 2))\n",
    "\n",
    "scores = cross_val_score(BernoulliNB(), X_train, Y_train, cv=skf)\n",
    "print(\"BNB, Accuracy: %0.4f (+/- %0.4f)\" % (scores.mean(), scores.std() * 2))\n",
    "\n",
    "#scores = cross_val_score(LogisticRegression(), X_train, Y_train, cv=skf)\n",
    "#print(\"LGR, Accuracy: %0.4f (+/- %0.4f)\" % (scores.mean(), scores.std() * 2))\n",
    "\n",
    "scores = cross_val_score(SGDClassifier(max_iter=3000, loss='log', tol=1e-4), X_train, Y_train, cv=skf)\n",
    "print(\"SGD, Accuracy: %0.4f (+/- %0.4f)\" % (scores.mean(), scores.std() * 2))"
   ]
  },
  {
   "cell_type": "code",
   "execution_count": 30,
   "metadata": {
    "_uuid": "5b3493a70aaa82c38cc0e219fa0454bd829fa8a3"
   },
   "outputs": [],
   "source": [
    "_='''noneffective\n",
    "from sklearn.manifold import TSNE\n",
    "\n",
    "tsne = TSNE(n_components=2, verbose=0, perplexity=30, n_iter=1000)\n",
    "X_all_tsne = tsne.fit_transform(pd.concat([n_train,n_test]))\n",
    "X_train_tsne = X_all_tsne[:n_train.shape[0]]\n",
    "X_test_tsne = X_all_tsne[n_train.shape[0]:]\n",
    "print(X_train_tsne.shape)\n",
    "\n",
    "plt.figure(figsize=(6,6))\n",
    "plt.scatter(X_train_tsne[:,0], X_train_tsne[:,1], c=color, alpha=0.3)\n",
    "plt.title(\"t-SNE visualization\")\n",
    "plt.show()\n",
    "\n",
    "n_train['tnse1'] = X_train_tsne[:,0]\n",
    "n_test['tnse1'] = X_test_tsne[:,0]\n",
    "n_train['tnse2'] = X_train_tsne[:,1]\n",
    "n_test['tnse2'] = X_test_tsne[:,1]\n",
    "'''"
   ]
  },
  {
   "cell_type": "code",
   "execution_count": 31,
   "metadata": {
    "_uuid": "96dd0a363e7f3c60c2c1960eaa776f1d0a287a80"
   },
   "outputs": [],
   "source": [
    "n_train = pd.DataFrame()\n",
    "n_test = pd.DataFrame()\n",
    "\n",
    "'''\n",
    "for df in [train, test]:\n",
    "    df['sum'] = df[idx].sum(axis=1)  \n",
    "    df['min'] = df[idx].min(axis=1)\n",
    "    df['max'] = df[idx].max(axis=1)\n",
    "    df['mean'] = df[idx].mean(axis=1)\n",
    "    df['std'] = df[idx].std(axis=1)\n",
    "    df['skew'] = df[idx].skew(axis=1)\n",
    "    df['kurt'] = df[idx].kurtosis(axis=1)\n",
    "    df['med'] = df[idx].median(axis=1)\n",
    "'''\n",
    "n_train['_var'] = X_train[numcols].var(axis=1)\n",
    "n_test['_var'] = X_test[numcols].var(axis=1)\n",
    "n_train['_sum'] = X_train[numcols].sum(axis=1)\n",
    "n_test['_sum'] = X_test[numcols].sum(axis=1)\n",
    "\n",
    "n_train['_km'] = X_train_km\n",
    "n_test['_km'] = X_test_km\n",
    "n_train['_lda'] = X_train_lda\n",
    "n_test['_lda'] = X_test_lda\n",
    "#n_train['pca'] = X_train_pca\n",
    "#n_test['pca'] = X_test_pca\n",
    "for n in range(0,X_train_pca.shape[1]):\n",
    "    n_train['_pca'+str(n+1)] = X_train_pca[:,n]\n",
    "    n_test['_pca'+str(n+1)] = X_test_pca[:,n]\n",
    "n_train['_lgr'] = X_train_lgr\n",
    "n_test['_lgr'] = X_test_lgr\n",
    "n_train['_sgd'] = X_train_sgd\n",
    "n_test['_sgd'] = X_test_sgd\n",
    "n_train['_gnb'] = X_train_gnb\n",
    "n_test['_gnb'] = X_test_gnb\n",
    "n_train['_bnb'] = X_train_bnb\n",
    "n_test['_bnb'] = X_test_bnb"
   ]
  },
  {
   "cell_type": "code",
   "execution_count": 32,
   "metadata": {
    "_uuid": "3a68c9fd8c1da1b2d619febce1e01d390bf7a510"
   },
   "outputs": [],
   "source": [
    "_='''\n",
    "from sklearn.preprocessing import PolynomialFeatures\n",
    "\n",
    "poly = PolynomialFeatures(2)\n",
    "n_train = poly.fit_transform(n_train)\n",
    "n_test = poly.transform(n_test)\n",
    "\n",
    "for c in n_train.columns:\n",
    "    n_train[c+'_r'] = rankdata(n_train[c]).astype('float32')\n",
    "    n_train[c+'_n'] = norm.cdf(n_train[c]).astype('float32')\n",
    "    n_test[c+'_r'] = rankdata(n_test[c]).astype('float32')\n",
    "    n_test[c+'_n'] = norm.cdf(n_test[c]).astype('float32')\n",
    "'''"
   ]
  },
  {
   "cell_type": "code",
   "execution_count": 33,
   "metadata": {
    "_uuid": "fbe8fc2b848e1475f661350d11f5e9b57c4d1867"
   },
   "outputs": [],
   "source": [
    "n_train = pd.DataFrame(n_train)\n",
    "n_test = pd.DataFrame(n_test)"
   ]
  },
  {
   "cell_type": "code",
   "execution_count": 34,
   "metadata": {
    "_uuid": "067007b3fd6d58e9fbc1029e22cd84d7543a703f"
   },
   "outputs": [],
   "source": [
    "X_train = pd.concat([X_train, n_train], axis=1)\n",
    "X_test = pd.concat([X_test, n_test], axis=1)"
   ]
  },
  {
   "cell_type": "code",
   "execution_count": 35,
   "metadata": {
    "_uuid": "25df4f74dccc0201876e973672786785be93cdc1"
   },
   "outputs": [],
   "source": [
    "_='''noneffective\n",
    "from sklearn.feature_selection import SelectKBest\n",
    "from sklearn.feature_selection import f_classif\n",
    "\n",
    "feat = SelectKBest(f_classif, k=50)\n",
    "feat.fit(X_train, Y_train)\n",
    "\n",
    "X_train = X_train.loc[:,feat.get_support()]\n",
    "X_test = X_test.loc[:,feat.get_support()]\n",
    "'''"
   ]
  },
  {
   "cell_type": "code",
   "execution_count": 36,
   "metadata": {
    "_uuid": "6a0d7f1da512fa9757739d3f712eabcd15de1434"
   },
   "outputs": [
    {
     "name": "stdout",
     "output_type": "stream",
     "text": [
      "        name       size\n",
      "0    X_train  336800104\n",
      "1     X_test  336800104\n",
      "2    n_train   16800104\n",
      "3     n_test   16800104\n",
      "4  X_test_ID   13488994\n"
     ]
    }
   ],
   "source": [
    "print(pd.DataFrame([[val for val in dir()], [sys.getsizeof(eval(val)) for val in dir()]],\n",
    "                   index=['name','size']).T.sort_values('size', ascending=False).reset_index(drop=True)[:5])"
   ]
  },
  {
   "cell_type": "markdown",
   "metadata": {
    "_uuid": "58c50c4316d7b55a90ddb13359c3faddee44e2e6"
   },
   "source": [
    "# Predict"
   ]
  },
  {
   "cell_type": "markdown",
   "metadata": {
    "_uuid": "c809b5fd748b84f5004dd34e3665236381a3d272"
   },
   "source": [
    "- LGBMClassifier"
   ]
  },
  {
   "cell_type": "code",
   "execution_count": 37,
   "metadata": {
    "_uuid": "f161ce8efc17e25ad5e7be79a6787a2689bedcf7"
   },
   "outputs": [
    {
     "name": "stdout",
     "output_type": "stream",
     "text": [
      "Training until validation scores don't improve for 3000 rounds.\n",
      "[1000]\ttraining's auc: 0.92791\tvalid_1's auc: 0.894313\n",
      "[2000]\ttraining's auc: 0.948358\tvalid_1's auc: 0.894426\n",
      "[3000]\ttraining's auc: 0.962904\tvalid_1's auc: 0.893721\n",
      "[4000]\ttraining's auc: 0.973773\tvalid_1's auc: 0.893192\n",
      "Early stopping, best iteration is:\n",
      "[1501]\ttraining's auc: 0.939229\tvalid_1's auc: 0.894537\n"
     ]
    },
    {
     "ename": "NameError",
     "evalue": "name 'valid_index' is not defined",
     "output_type": "error",
     "traceback": [
      "\u001b[0;31m---------------------------------------------------------------------------\u001b[0m",
      "\u001b[0;31mNameError\u001b[0m                                 Traceback (most recent call last)",
      "\u001b[0;32m<ipython-input-37-8d9daaba0df9>\u001b[0m in \u001b[0;36m<module>\u001b[0;34m()\u001b[0m\n\u001b[1;32m     25\u001b[0m     lgb_model = lgb.train(params, train_data, num_boost_round=100000,\n\u001b[1;32m     26\u001b[0m                 valid_sets=[train_data, valid_data], verbose_eval=1000, early_stopping_rounds = 3000)\n\u001b[0;32m---> 27\u001b[0;31m     \u001b[0moof_preds\u001b[0m\u001b[0;34m[\u001b[0m\u001b[0mval_\u001b[0m\u001b[0;34m]\u001b[0m \u001b[0;34m=\u001b[0m \u001b[0mlgb_model\u001b[0m\u001b[0;34m.\u001b[0m\u001b[0mpredict\u001b[0m\u001b[0;34m(\u001b[0m\u001b[0mX_train\u001b[0m\u001b[0;34m.\u001b[0m\u001b[0miloc\u001b[0m\u001b[0;34m[\u001b[0m\u001b[0mvalid_index\u001b[0m\u001b[0;34m]\u001b[0m\u001b[0;34m,\u001b[0m \u001b[0mnum_iteration\u001b[0m\u001b[0;34m=\u001b[0m\u001b[0mlgb_model\u001b[0m\u001b[0;34m.\u001b[0m\u001b[0mbest_iteration\u001b[0m\u001b[0;34m)\u001b[0m\u001b[0;34m\u001b[0m\u001b[0m\n\u001b[0m\u001b[1;32m     28\u001b[0m     \u001b[0msub_preds\u001b[0m \u001b[0;34m+=\u001b[0m \u001b[0mlgb_model\u001b[0m\u001b[0;34m.\u001b[0m\u001b[0mpredict\u001b[0m\u001b[0;34m(\u001b[0m\u001b[0mX_test\u001b[0m\u001b[0;34m,\u001b[0m \u001b[0mnum_iteration\u001b[0m\u001b[0;34m=\u001b[0m\u001b[0mlgb_model\u001b[0m\u001b[0;34m.\u001b[0m\u001b[0mbest_iteration_\u001b[0m\u001b[0;34m)\u001b[0m \u001b[0;34m/\u001b[0m \u001b[0mfolds\u001b[0m\u001b[0;34m.\u001b[0m\u001b[0mn_splits\u001b[0m\u001b[0;34m\u001b[0m\u001b[0m\n\u001b[1;32m     29\u001b[0m     '''\n",
      "\u001b[0;31mNameError\u001b[0m: name 'valid_index' is not defined"
     ]
    }
   ],
   "source": [
    "from sklearn.model_selection import StratifiedKFold\n",
    "import lightgbm as lgb\n",
    "\n",
    "params={'learning_rate': 0.01,\n",
    "        'objective':'binary',\n",
    "        'metric':'auc',\n",
    "        'num_leaves': 31,\n",
    "        'verbose': 1,\n",
    "        'random_state':42,\n",
    "        'is_unbalance':'true',\n",
    "        #'scale_pos_weight': 2,\n",
    "        'bagging_fraction': 0.6,\n",
    "        'feature_fraction': 0.6\n",
    "       }\n",
    "\n",
    "folds = StratifiedKFold(n_splits=10)\n",
    "oof_preds = np.zeros(X_train.shape[0])\n",
    "sub_preds = np.zeros(X_test.shape[0])\n",
    "for fold_, (trn_, val_) in enumerate(folds.split(X_train, Y_train)):\n",
    "    trn_x, trn_y = X_train.iloc[trn_], Y_train[trn_]\n",
    "    val_x, val_y = X_train.iloc[val_], Y_train[val_]\n",
    "\n",
    "    train_data = lgb.Dataset(trn_x, label=trn_y)\n",
    "    valid_data = lgb.Dataset(val_x, label=val_y)    \n",
    "    lgb_model = lgb.train(params, train_data, num_boost_round=100000,\n",
    "                valid_sets=[train_data, valid_data], verbose_eval=1000, early_stopping_rounds = 3000)\n",
    "    oof_preds[val_] = lgb_model.predict(X_train.iloc[valid_index], num_iteration=lgb_model.best_iteration)\n",
    "    sub_preds += lgb_model.predict(X_test, num_iteration=lgb_model.best_iteration_) / folds.n_splits\n",
    "    '''\n",
    "    model = lgb.LGBMClassifier(**params, n_estimators=10000)\n",
    "    model.fit(trn_x, trn_y, eval_set=[(val_x, val_y)], early_stopping_rounds=1000, verbose=1000)\n",
    "\n",
    "    oof_preds[val_] = model.predict_proba(val_x, num_iteration=model.best_iteration_)[:,1]\n",
    "    sub_preds += model.predict_proba(X_test, num_iteration=model.best_iteration_)[:,1] / folds.n_splits\n",
    "    '''"
   ]
  },
  {
   "cell_type": "code",
   "execution_count": 38,
   "metadata": {
    "_uuid": "949565f9104bffdb7be3181915ef9aff05bac4e6"
   },
   "outputs": [
    {
     "ename": "NameError",
     "evalue": "name 'model' is not defined",
     "output_type": "error",
     "traceback": [
      "\u001b[0;31m---------------------------------------------------------------------------\u001b[0m",
      "\u001b[0;31mNameError\u001b[0m                                 Traceback (most recent call last)",
      "\u001b[0;32m<ipython-input-38-892e0cee75a7>\u001b[0m in \u001b[0;36m<module>\u001b[0;34m()\u001b[0m\n\u001b[1;32m      1\u001b[0m \u001b[0;31m# Plot feature importance\u001b[0m\u001b[0;34m\u001b[0m\u001b[0;34m\u001b[0m\u001b[0m\n\u001b[0;32m----> 2\u001b[0;31m \u001b[0mfeature_importance\u001b[0m \u001b[0;34m=\u001b[0m \u001b[0mmodel\u001b[0m\u001b[0;34m.\u001b[0m\u001b[0mfeature_importances_\u001b[0m\u001b[0;34m\u001b[0m\u001b[0m\n\u001b[0m\u001b[1;32m      3\u001b[0m \u001b[0mfeature_importance\u001b[0m \u001b[0;34m=\u001b[0m \u001b[0;36m100.0\u001b[0m \u001b[0;34m*\u001b[0m \u001b[0;34m(\u001b[0m\u001b[0mfeature_importance\u001b[0m \u001b[0;34m/\u001b[0m \u001b[0mfeature_importance\u001b[0m\u001b[0;34m.\u001b[0m\u001b[0mmax\u001b[0m\u001b[0;34m(\u001b[0m\u001b[0;34m)\u001b[0m\u001b[0;34m)\u001b[0m\u001b[0;34m\u001b[0m\u001b[0m\n\u001b[1;32m      4\u001b[0m \u001b[0msorted_idx\u001b[0m \u001b[0;34m=\u001b[0m \u001b[0mnp\u001b[0m\u001b[0;34m.\u001b[0m\u001b[0margsort\u001b[0m\u001b[0;34m(\u001b[0m\u001b[0mfeature_importance\u001b[0m\u001b[0;34m)\u001b[0m\u001b[0;34m\u001b[0m\u001b[0m\n\u001b[1;32m      5\u001b[0m \u001b[0msorted_idx\u001b[0m \u001b[0;34m=\u001b[0m \u001b[0msorted_idx\u001b[0m\u001b[0;34m[\u001b[0m\u001b[0mlen\u001b[0m\u001b[0;34m(\u001b[0m\u001b[0mfeature_importance\u001b[0m\u001b[0;34m)\u001b[0m \u001b[0;34m-\u001b[0m \u001b[0;36m20\u001b[0m\u001b[0;34m:\u001b[0m\u001b[0;34m]\u001b[0m\u001b[0;34m\u001b[0m\u001b[0m\n",
      "\u001b[0;31mNameError\u001b[0m: name 'model' is not defined"
     ]
    }
   ],
   "source": [
    "# Plot feature importance\n",
    "feature_importance = model.feature_importances_\n",
    "feature_importance = 100.0 * (feature_importance / feature_importance.max())\n",
    "sorted_idx = np.argsort(feature_importance)\n",
    "sorted_idx = sorted_idx[len(feature_importance) - 20:]\n",
    "pos = np.arange(sorted_idx.shape[0]) + .5\n",
    "\n",
    "plt.figure(figsize=(12,6))\n",
    "plt.barh(pos, feature_importance[sorted_idx], align='center')\n",
    "plt.yticks(pos, X_train.columns[sorted_idx])\n",
    "plt.xlabel('Relative Importance')\n",
    "plt.title('Variable Importance')\n",
    "plt.show()"
   ]
  },
  {
   "cell_type": "code",
   "execution_count": 39,
   "metadata": {
    "_uuid": "93b8ec8272f25c326b8db5ce567fafaa336f8c35"
   },
   "outputs": [
    {
     "data": {
      "image/png": "[encoded data removed]",
      "text/plain": [
       "<Figure size 432x288 with 1 Axes>"
      ]
     },
     "metadata": {},
     "output_type": "display_data"
    }
   ],
   "source": [
    "fpr, tpr, thresholds = metrics.roc_curve(Y_train, oof_preds)\n",
    "auc = metrics.auc(fpr, tpr)\n",
    "\n",
    "plt.plot(fpr, tpr, label='ROC curve (area = %.2f)'%auc)\n",
    "plt.legend()\n",
    "plt.title('ROC curve')\n",
    "plt.xlabel('False Positive Rate')\n",
    "plt.ylabel('True Positive Rate')\n",
    "plt.grid(True)"
   ]
  },
  {
   "cell_type": "markdown",
   "metadata": {
    "_uuid": "8a7f1308e78d08d8778eab3512b84033f9bd056f"
   },
   "source": [
    "- CatBoostClassifier"
   ]
  },
  {
   "cell_type": "code",
   "execution_count": 40,
   "metadata": {
    "_uuid": "76b0e117fdea0ee62ee4f4299ed2e3fc8eee0a02"
   },
   "outputs": [],
   "source": [
    "_='''\n",
    "from catboost import CatBoostClassifier\n",
    "\n",
    "folds = StratifiedKFold(n_splits=5)\n",
    "oof2_preds = np.zeros(X_train.shape[0])\n",
    "sub2_preds = np.zeros(X_test.shape[0])\n",
    "for fold_, (trn_, val_) in enumerate(folds.split(X_train, Y_train)):\n",
    "    trn_x, trn_y = X_train.iloc[trn_], Y_train[trn_]\n",
    "    val_x, val_y = X_train.iloc[val_], Y_train[val_]\n",
    "    \n",
    "    model = CatBoostClassifier(iterations=10000, learning_rate=0.01, objective=\"Logloss\", eval_metric='AUC')\n",
    "    model.fit(trn_x, trn_y, eval_set=[(val_x, val_y)], verbose=500) #early_stopping_rounds=100, \n",
    "\n",
    "    oof2_preds[val_] = model.predict_proba(val_x)[:,1]\n",
    "    sub2_preds += model.predict_proba(X_test)[:,1] / folds.n_splits\n",
    "'''"
   ]
  },
  {
   "cell_type": "code",
   "execution_count": 41,
   "metadata": {
    "_uuid": "5c88be6918874958bf511ebc89b48d83ba6e62b5"
   },
   "outputs": [],
   "source": [
    "#preds = sub_preds * 0.7 + sub2_preds * 0.3\n",
    "preds = sub_preds"
   ]
  },
  {
   "cell_type": "markdown",
   "metadata": {
    "_uuid": "dc41b1895e49d1d419ff4dfadd698b4b8f71556a"
   },
   "source": [
    "# Submit"
   ]
  },
  {
   "cell_type": "code",
   "execution_count": 42,
   "metadata": {
    "_uuid": "2d13f144ce6f9ae386aea171ca07ccc8970ce8f0"
   },
   "outputs": [],
   "source": [
    "submission = pd.DataFrame({\n",
    "    'ID_code': X_test_ID,\n",
    "    'target': preds\n",
    "})\n",
    "submission.to_csv(\"submission.csv\", index=False)"
   ]
  },
  {
   "cell_type": "code",
   "execution_count": 43,
   "metadata": {
    "_uuid": "6af93cbf49a67c3cf622e9c49209dd73800beba2"
   },
   "outputs": [
    {
     "data": {
      "text/plain": [
       "0.0"
      ]
     },
     "execution_count": 43,
     "metadata": {},
     "output_type": "execute_result"
    }
   ],
   "source": [
    "submission['target'].sum()"
   ]
  },
  {
   "cell_type": "code",
   "execution_count": 44,
   "metadata": {
    "_uuid": "6123f98b3b53166375a4aadb082aafc9daa51ea6"
   },
   "outputs": [],
   "source": []
  }
 ],
 "metadata": {
  "kernelspec": {
   "display_name": "Python 3",
   "language": "python",
   "name": "python3"
  },
  "language_info": {
   "codemirror_mode": {
    "name": "ipython",
    "version": 3
   },
   "file_extension": ".py",
   "mimetype": "text/x-python",
   "name": "python",
   "nbconvert_exporter": "python",
   "pygments_lexer": "ipython3",
   "version": "3.6.6"
  }
 },
 "nbformat": 4,
 "nbformat_minor": 1
}
